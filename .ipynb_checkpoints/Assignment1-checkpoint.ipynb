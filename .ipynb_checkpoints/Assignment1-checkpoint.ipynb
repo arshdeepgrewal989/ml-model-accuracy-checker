{
 "cells": [
  {
   "cell_type": "markdown",
   "metadata": {},
   "source": [
    "# <center> Assignment 1 </center>\n",
    "\n",
    "#### Name:\n",
    "\n",
    "#### Student ID:\n",
    "\n",
    "### You are given a list of target values of a binary classification problem, and 2 lists of corresponding predicted scores from 2 models (Model_1 and Model_2). Please evaluate the preformance of the models in the following aspects. You are allowed to use python machine learning packages, such as sklearn."
   ]
  },
  {
   "cell_type": "code",
   "execution_count": 1,
   "metadata": {},
   "outputs": [],
   "source": [
    "### Read the target values and predicted scores into lists\n",
    "def read_from_file(filename):\n",
    "    file = open(filename, \"r\") \n",
    "    s = file.read()\n",
    "    lines = s.split('\\n')\n",
    "    return [float(x) for x in lines]\n",
    "\n",
    "target = read_from_file('target.csv')\n",
    "pred_1 = read_from_file('pred_model1.csv')\n",
    "pred_2 = read_from_file('pred_model2.csv')\n"
   ]
  },
  {
   "cell_type": "markdown",
   "metadata": {},
   "source": [
    "### Question 1. Assume the target level 1 is positive, and 0 is negative. Given a threshold 0.2, show the confusion matrix for each model."
   ]
  },
  {
   "cell_type": "code",
   "execution_count": null,
   "metadata": {},
   "outputs": [],
   "source": []
  },
  {
   "cell_type": "markdown",
   "metadata": {},
   "source": [
    "### Question 2. For each model, what are the following values? TPR, FPR, TNR, FNR, Precision, Recall, F1-measure."
   ]
  },
  {
   "cell_type": "code",
   "execution_count": null,
   "metadata": {},
   "outputs": [],
   "source": []
  },
  {
   "cell_type": "markdown",
   "metadata": {},
   "source": [
    "### Question 3. Draw ROC curves of the two models. "
   ]
  },
  {
   "cell_type": "code",
   "execution_count": null,
   "metadata": {},
   "outputs": [],
   "source": []
  },
  {
   "cell_type": "markdown",
   "metadata": {},
   "source": [
    "### Question 4. For each model, what is the value of the ROC Index? Which model has better performance according to ROC Index? "
   ]
  },
  {
   "cell_type": "code",
   "execution_count": null,
   "metadata": {},
   "outputs": [],
   "source": []
  }
 ],
 "metadata": {
  "kernelspec": {
   "display_name": "Python 3",
   "language": "python",
   "name": "python3"
  },
  "language_info": {
   "codemirror_mode": {
    "name": "ipython",
    "version": 3
   },
   "file_extension": ".py",
   "mimetype": "text/x-python",
   "name": "python",
   "nbconvert_exporter": "python",
   "pygments_lexer": "ipython3",
   "version": "3.8.5"
  }
 },
 "nbformat": 4,
 "nbformat_minor": 2
}
